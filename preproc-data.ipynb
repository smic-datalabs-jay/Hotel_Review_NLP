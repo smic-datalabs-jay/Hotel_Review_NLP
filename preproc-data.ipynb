{
 "cells": [
  {
   "cell_type": "markdown",
   "metadata": {
    "Collapsed": "false"
   },
   "source": [
    "# 2. Further EDA and Preprocessing"
   ]
  },
  {
   "cell_type": "markdown",
   "metadata": {
    "Collapsed": "false"
   },
   "source": [
    "## 2.1 Imports"
   ]
  },
  {
   "cell_type": "code",
   "execution_count": 1,
   "metadata": {
    "Collapsed": "false"
   },
   "outputs": [],
   "source": [
    "import pandas as pd\n",
    "import matplotlib.pyplot as plt\n",
    "import numpy as np\n",
    "import seaborn as sns\n",
    "\n",
    "import nltk\n",
    "from nltk.probability import FreqDist\n",
    "from nltk.tokenize import RegexpTokenizer\n",
    "from nltk.tokenize import word_tokenize\n",
    "from nltk.stem import PorterStemmer, WordNetLemmatizer\n",
    "from nltk.corpus import stopwords\n",
    "\n",
    "from sklearn.model_selection import train_test_split\n",
    "from sklearn.feature_extraction.text import TfidfVectorizer\n",
    "\n",
    "#from wordcloud import WordCloud"
   ]
  },
  {
   "cell_type": "code",
   "execution_count": 7,
   "metadata": {
    "Collapsed": "false"
   },
   "outputs": [],
   "source": [
    "#sns.set_context('poster')"
   ]
  },
  {
   "cell_type": "code",
   "execution_count": 8,
   "metadata": {
    "Collapsed": "false"
   },
   "outputs": [],
   "source": [
    "df = pd.read_csv('Data/2.hotel_reviews_structured.csv')"
   ]
  },
  {
   "cell_type": "code",
   "execution_count": 9,
   "metadata": {
    "Collapsed": "false"
   },
   "outputs": [
    {
     "data": {
      "text/html": [
       "<div>\n",
       "<style scoped>\n",
       "    .dataframe tbody tr th:only-of-type {\n",
       "        vertical-align: middle;\n",
       "    }\n",
       "\n",
       "    .dataframe tbody tr th {\n",
       "        vertical-align: top;\n",
       "    }\n",
       "\n",
       "    .dataframe thead th {\n",
       "        text-align: right;\n",
       "    }\n",
       "</style>\n",
       "<table border=\"1\" class=\"dataframe\">\n",
       "  <thead>\n",
       "    <tr style=\"text-align: right;\">\n",
       "      <th></th>\n",
       "      <th>hotel_name</th>\n",
       "      <th>review_summary</th>\n",
       "      <th>score</th>\n",
       "      <th>review</th>\n",
       "    </tr>\n",
       "  </thead>\n",
       "  <tbody>\n",
       "    <tr>\n",
       "      <th>0</th>\n",
       "      <td>Hotel Hilton London Gatwick Airport</td>\n",
       "      <td>Awful...</td>\n",
       "      <td>1</td>\n",
       "      <td>Its hard to find words that can describe this ...</td>\n",
       "    </tr>\n",
       "    <tr>\n",
       "      <th>1</th>\n",
       "      <td>Hilton London Metropole</td>\n",
       "      <td>Terrible</td>\n",
       "      <td>1</td>\n",
       "      <td>Absolutely terrible. Cracked ceiling, tiny roo...</td>\n",
       "    </tr>\n",
       "    <tr>\n",
       "      <th>2</th>\n",
       "      <td>Hilton London Euston</td>\n",
       "      <td>Double deposit taken from bank</td>\n",
       "      <td>1</td>\n",
       "      <td>Very disappointed firstly i checked in online ...</td>\n",
       "    </tr>\n",
       "    <tr>\n",
       "      <th>3</th>\n",
       "      <td>Hilton London Metropole</td>\n",
       "      <td>Super disappointed!</td>\n",
       "      <td>1</td>\n",
       "      <td>First of all we arrived wanting to park at the...</td>\n",
       "    </tr>\n",
       "    <tr>\n",
       "      <th>4</th>\n",
       "      <td>Hilton London Metropole</td>\n",
       "      <td>Dissatisfied Hilton gold number</td>\n",
       "      <td>1</td>\n",
       "      <td>Hello,  I currently staying @ Hilton Metropole...</td>\n",
       "    </tr>\n",
       "  </tbody>\n",
       "</table>\n",
       "</div>"
      ],
      "text/plain": [
       "                            hotel_name                   review_summary  \\\n",
       "0  Hotel Hilton London Gatwick Airport                         Awful...   \n",
       "1              Hilton London Metropole                        Terrible    \n",
       "2                 Hilton London Euston   Double deposit taken from bank   \n",
       "3              Hilton London Metropole              Super disappointed!   \n",
       "4              Hilton London Metropole  Dissatisfied Hilton gold number   \n",
       "\n",
       "   score                                             review  \n",
       "0      1  Its hard to find words that can describe this ...  \n",
       "1      1  Absolutely terrible. Cracked ceiling, tiny roo...  \n",
       "2      1  Very disappointed firstly i checked in online ...  \n",
       "3      1  First of all we arrived wanting to park at the...  \n",
       "4      1  Hello,  I currently staying @ Hilton Metropole...  "
      ]
     },
     "execution_count": 9,
     "metadata": {},
     "output_type": "execute_result"
    }
   ],
   "source": [
    "df.head()"
   ]
  },
  {
   "cell_type": "code",
   "execution_count": 10,
   "metadata": {
    "Collapsed": "false"
   },
   "outputs": [
    {
     "data": {
      "text/plain": [
       "(9405, 4)"
      ]
     },
     "execution_count": 10,
     "metadata": {},
     "output_type": "execute_result"
    }
   ],
   "source": [
    "df.shape"
   ]
  },
  {
   "cell_type": "markdown",
   "metadata": {
    "Collapsed": "false"
   },
   "source": [
    "## 2.2 Checking Frequency of Words and Phrases in Review Summaries"
   ]
  },
  {
   "cell_type": "markdown",
   "metadata": {
    "Collapsed": "false"
   },
   "source": [
    "Using the FreqDist function in the ntlk library I plotted a graph with the most frequent words and phrases in both columns. Stopwords were removed to capture the more meaningful words."
   ]
  },
  {
   "cell_type": "markdown",
   "metadata": {
    "Collapsed": "false"
   },
   "source": [
    "I flattened the review summary:"
   ]
  },
  {
   "cell_type": "code",
   "execution_count": 11,
   "metadata": {
    "Collapsed": "false"
   },
   "outputs": [],
   "source": [
    "flat_review_summary = \" \".join(df['review_summary'].values)"
   ]
  },
  {
   "cell_type": "code",
   "execution_count": 12,
   "metadata": {
    "Collapsed": "false"
   },
   "outputs": [],
   "source": [
    "flat_list_review_summaries = []\n",
    "tokenizer = RegexpTokenizer(r'[a-zA-Z]+') \n",
    "tokenized_reviews = tokenizer.tokenize(flat_review_summary)\n",
    "\n",
    "for review in tokenized_reviews:\n",
    "    flat_list_review_summaries.append(review.lower())"
   ]
  },
  {
   "cell_type": "code",
   "execution_count": 13,
   "metadata": {
    "Collapsed": "false"
   },
   "outputs": [],
   "source": [
    "stop_words = stopwords.words(\"english\")\n",
    "\n",
    "flat_list_review_summaries_no_stop = [word for word in flat_list_review_summaries if word not in stop_words]"
   ]
  },
  {
   "cell_type": "code",
   "execution_count": 14,
   "metadata": {
    "Collapsed": "false"
   },
   "outputs": [
    {
     "data": {
      "image/png": "[encoded data removed]",
      "text/plain": [
       "<Figure size 720x576 with 1 Axes>"
      ]
     },
     "metadata": {
      "needs_background": "light"
     },
     "output_type": "display_data"
    }
   ],
   "source": [
    "plt.figure(figsize=(10,8))\n",
    "plt.xticks(rotation=45)\n",
    "FreqDist(flat_list_review_summaries_no_stop).plot(20)\n",
    "plt.show()"
   ]
  },
  {
   "cell_type": "markdown",
   "metadata": {
    "Collapsed": "false"
   },
   "source": [
    "### 2.2.1 Removing Unmeaningful Words 1st Attempt"
   ]
  },
  {
   "cell_type": "markdown",
   "metadata": {
    "Collapsed": "false"
   },
   "source": [
    "I had noticed a lot of the most frequent words in the review text happened to be words with no sentimental impact, so I iteratively removed unmeaningful words such as 'room', 'hotel', 'hilton' etc. I did this as a precaution, as some of these words may impact my model accuracies."
   ]
  },
  {
   "cell_type": "code",
   "execution_count": 15,
   "metadata": {
    "Collapsed": "false"
   },
   "outputs": [],
   "source": [
    "for word in ['hotel','stay','hilton','location','room','service','airport','staff','london','night','flight','overnight','rooms']:\n",
    "    stop_words.append(word)"
   ]
  },
  {
   "cell_type": "code",
   "execution_count": 16,
   "metadata": {
    "Collapsed": "false"
   },
   "outputs": [],
   "source": [
    "flat_list_review_summaries_no_stop_2 =  [word for word in flat_list_review_summaries_no_stop if word not in stop_words]"
   ]
  },
  {
   "cell_type": "code",
   "execution_count": 17,
   "metadata": {
    "Collapsed": "false"
   },
   "outputs": [
    {
     "data": {
      "image/png": "[encoded data removed]",
      "text/plain": [
       "<Figure size 720x576 with 1 Axes>"
      ]
     },
     "metadata": {
      "needs_background": "light"
     },
     "output_type": "display_data"
    }
   ],
   "source": [
    "plt.figure(figsize=(10,8))\n",
    "FreqDist(flat_list_review_summaries_no_stop_2).plot(20)\n",
    "plt.show()"
   ]
  },
  {
   "cell_type": "markdown",
   "metadata": {
    "Collapsed": "false"
   },
   "source": [
    "### 2.2.2 Removing Unmeaningful Words 2nd Attempt"
   ]
  },
  {
   "cell_type": "code",
   "execution_count": 18,
   "metadata": {
    "Collapsed": "false"
   },
   "outputs": [],
   "source": [
    "for word in ['experience','gatwick','ever','holiday','one']:\n",
    "    stop_words.append(word)"
   ]
  },
  {
   "cell_type": "code",
   "execution_count": 19,
   "metadata": {
    "Collapsed": "false"
   },
   "outputs": [],
   "source": [
    "flat_list_review_summaries_no_stop_3 =  [word for word in flat_list_review_summaries_no_stop_2 if word not in stop_words]"
   ]
  },
  {
   "cell_type": "code",
   "execution_count": 20,
   "metadata": {
    "Collapsed": "false"
   },
   "outputs": [
    {
     "data": {
      "image/png": "[encoded data removed]",
      "text/plain": [
       "<Figure size 720x576 with 1 Axes>"
      ]
     },
     "metadata": {
      "needs_background": "light"
     },
     "output_type": "display_data"
    }
   ],
   "source": [
    "plt.figure(figsize=(10,8))\n",
    "FreqDist(flat_list_review_summaries_no_stop_3).plot(20)\n",
    "plt.show()"
   ]
  },
  {
   "cell_type": "markdown",
   "metadata": {
    "Collapsed": "false"
   },
   "source": [
    "### 2.2.3 Word Cloud for Review Summaries"
   ]
  },
  {
   "cell_type": "code",
   "execution_count": 21,
   "metadata": {
    "Collapsed": "false"
   },
   "outputs": [],
   "source": [
    "flat_clean_sum_str = \" \".join(flat_list_review_summaries_no_stop_3)"
   ]
  },
  {
   "cell_type": "code",
   "execution_count": 22,
   "metadata": {
    "Collapsed": "false"
   },
   "outputs": [],
   "source": [
    "#wordcloud = WordCloud(width = 3000,\n",
    "#                      height = 2000,\n",
    "#                      background_color = 'black',\n",
    "#                      stopwords = stop_words)\n",
    "#\n",
    "#wordcloud.generate(flat_clean_sum_str)\n",
    "#\n",
    "#plt.figure(figsize = (10,10),\n",
    "#           facecolor = 'k',\n",
    "#           edgecolor = 'k')\n",
    "#\n",
    "#plt.imshow(wordcloud, interpolation = 'bilinear')\n",
    "#plt.axis('off')\n",
    "#plt.tight_layout(pad=0)\n",
    "#plt.show()"
   ]
  },
  {
   "cell_type": "markdown",
   "metadata": {
    "Collapsed": "false"
   },
   "source": [
    "## 2.3 Checking Frequency of Words and Phrases in Reviews"
   ]
  },
  {
   "cell_type": "code",
   "execution_count": 23,
   "metadata": {
    "Collapsed": "false"
   },
   "outputs": [],
   "source": [
    "flat_review = \" \".join(df['review'].values)"
   ]
  },
  {
   "cell_type": "code",
   "execution_count": 24,
   "metadata": {
    "Collapsed": "false"
   },
   "outputs": [],
   "source": [
    "flat_list_reviews = []\n",
    "tokenizer = RegexpTokenizer(r'[a-zA-Z]+') \n",
    "tokenized_reviews = tokenizer.tokenize(flat_review)\n",
    "\n",
    "for review in tokenized_reviews:\n",
    "    flat_list_reviews.append(review.lower())"
   ]
  },
  {
   "cell_type": "code",
   "execution_count": 25,
   "metadata": {
    "Collapsed": "false"
   },
   "outputs": [],
   "source": [
    "flat_list_reviews_no_stop = [word for word in flat_list_reviews if word not in stop_words]"
   ]
  },
  {
   "cell_type": "code",
   "execution_count": 26,
   "metadata": {
    "Collapsed": "false"
   },
   "outputs": [
    {
     "data": {
      "image/png": "[encoded data removed]",
      "text/plain": [
       "<Figure size 720x576 with 1 Axes>"
      ]
     },
     "metadata": {
      "needs_background": "light"
     },
     "output_type": "display_data"
    }
   ],
   "source": [
    "plt.figure(figsize=(10,8))\n",
    "FreqDist(flat_list_reviews_no_stop).plot(20)\n",
    "plt.show()"
   ]
  },
  {
   "cell_type": "markdown",
   "metadata": {
    "Collapsed": "false"
   },
   "source": [
    "### 2.3.1 Removing Unmeaningful Words 1st Attempt"
   ]
  },
  {
   "cell_type": "code",
   "execution_count": 27,
   "metadata": {
    "Collapsed": "false"
   },
   "outputs": [],
   "source": [
    "for word in ['stayed','would','breakfast','bed','check','get','us','time','reception','terminal','bar','food','booked','walk','bathroom']:\n",
    "    stop_words.append(word)"
   ]
  },
  {
   "cell_type": "code",
   "execution_count": 28,
   "metadata": {
    "Collapsed": "false"
   },
   "outputs": [],
   "source": [
    "flat_list_reviews_no_stop_2 =  [word for word in flat_list_reviews if word not in stop_words]"
   ]
  },
  {
   "cell_type": "code",
   "execution_count": 29,
   "metadata": {
    "Collapsed": "false"
   },
   "outputs": [
    {
     "data": {
      "image/png": "[encoded data removed]",
      "text/plain": [
       "<Figure size 720x576 with 1 Axes>"
      ]
     },
     "metadata": {
      "needs_background": "light"
     },
     "output_type": "display_data"
    }
   ],
   "source": [
    "plt.figure(figsize=(10,8))\n",
    "FreqDist(flat_list_reviews_no_stop_2).plot(20)\n",
    "plt.show()"
   ]
  },
  {
   "cell_type": "markdown",
   "metadata": {
    "Collapsed": "false"
   },
   "source": [
    "### 2.3.2 Removing Unmeaningful Words 2nd Attempt"
   ]
  },
  {
   "cell_type": "code",
   "execution_count": 30,
   "metadata": {
    "Collapsed": "false"
   },
   "outputs": [],
   "source": [
    "for word in ['really','early','could','also','restaurant','morning','even','floor','next','back','day','two']:\n",
    "    stop_words.append(word)"
   ]
  },
  {
   "cell_type": "code",
   "execution_count": 31,
   "metadata": {
    "Collapsed": "false"
   },
   "outputs": [],
   "source": [
    "flat_list_reviews_no_stop_3 = [word for word in flat_list_reviews_no_stop_2 if word not in stop_words]"
   ]
  },
  {
   "cell_type": "code",
   "execution_count": 32,
   "metadata": {
    "Collapsed": "false"
   },
   "outputs": [
    {
     "data": {
      "image/png": "[encoded data removed]",
      "text/plain": [
       "<Figure size 720x576 with 1 Axes>"
      ]
     },
     "metadata": {
      "needs_background": "light"
     },
     "output_type": "display_data"
    }
   ],
   "source": [
    "plt.figure(figsize=(10,8))\n",
    "FreqDist(flat_list_reviews_no_stop_3).plot(20)\n",
    "plt.show()"
   ]
  },
  {
   "cell_type": "markdown",
   "metadata": {
    "Collapsed": "false"
   },
   "source": [
    "### 2.3.3 Removing Unmeaningful Words 3rd Attempt"
   ]
  },
  {
   "cell_type": "code",
   "execution_count": 33,
   "metadata": {
    "Collapsed": "false"
   },
   "outputs": [],
   "source": [
    "for word in ['got','executive','south','shower','first','long','need','area']:\n",
    "    stop_words.append(word)"
   ]
  },
  {
   "cell_type": "code",
   "execution_count": 34,
   "metadata": {
    "Collapsed": "false"
   },
   "outputs": [],
   "source": [
    "flat_list_reviews_no_stop_4 = [word for word in flat_list_reviews_no_stop_3 if word not in stop_words]"
   ]
  },
  {
   "cell_type": "code",
   "execution_count": 35,
   "metadata": {
    "Collapsed": "false"
   },
   "outputs": [
    {
     "data": {
      "image/png": "[encoded data removed]",
      "text/plain": [
       "<Figure size 720x576 with 1 Axes>"
      ]
     },
     "metadata": {
      "needs_background": "light"
     },
     "output_type": "display_data"
    }
   ],
   "source": [
    "plt.figure(figsize=(10,8))\n",
    "FreqDist(flat_list_reviews_no_stop_4).plot(20)\n",
    "plt.show()"
   ]
  },
  {
   "cell_type": "markdown",
   "metadata": {
    "Collapsed": "false"
   },
   "source": [
    "### 2.3.4 Removing Unmeaningful Words 4th Attempt"
   ]
  },
  {
   "cell_type": "code",
   "execution_count": 36,
   "metadata": {
    "Collapsed": "false"
   },
   "outputs": [],
   "source": [
    "for word in ['minutes','lounge','went','much','told','sleep']:\n",
    "    stop_words.append(word)"
   ]
  },
  {
   "cell_type": "code",
   "execution_count": 37,
   "metadata": {
    "Collapsed": "false"
   },
   "outputs": [],
   "source": [
    "flat_list_reviews_no_stop_5 = [word for word in flat_list_reviews_no_stop_4 if word not in stop_words]"
   ]
  },
  {
   "cell_type": "code",
   "execution_count": 38,
   "metadata": {
    "Collapsed": "false"
   },
   "outputs": [
    {
     "data": {
      "image/png": "[encoded data removed]",
      "text/plain": [
       "<Figure size 720x576 with 1 Axes>"
      ]
     },
     "metadata": {
      "needs_background": "light"
     },
     "output_type": "display_data"
    }
   ],
   "source": [
    "plt.figure(figsize=(10,8))\n",
    "FreqDist(flat_list_reviews_no_stop_5).plot(20)\n",
    "plt.show()"
   ]
  },
  {
   "cell_type": "markdown",
   "metadata": {
    "Collapsed": "false"
   },
   "source": [
    "### 2.3.5 Removing Unmeaningful Words 5th Attempt"
   ]
  },
  {
   "cell_type": "code",
   "execution_count": 39,
   "metadata": {
    "Collapsed": "false"
   },
   "outputs": [],
   "source": [
    "for word in ['arrived','hotels','work','station','nights','beds']:\n",
    "    stop_words.append(word)"
   ]
  },
  {
   "cell_type": "code",
   "execution_count": 40,
   "metadata": {
    "Collapsed": "false"
   },
   "outputs": [],
   "source": [
    "flat_list_reviews_no_stop_6 = [word for word in flat_list_reviews_no_stop_5 if word not in stop_words]"
   ]
  },
  {
   "cell_type": "code",
   "execution_count": 41,
   "metadata": {
    "Collapsed": "false"
   },
   "outputs": [
    {
     "data": {
      "image/png": "[encoded data removed]",
      "text/plain": [
       "<Figure size 720x576 with 1 Axes>"
      ]
     },
     "metadata": {
      "needs_background": "light"
     },
     "output_type": "display_data"
    }
   ],
   "source": [
    "plt.figure(figsize=(10,8))\n",
    "FreqDist(flat_list_reviews_no_stop_6).plot(20)\n",
    "plt.show()"
   ]
  },
  {
   "cell_type": "markdown",
   "metadata": {
    "Collapsed": "false"
   },
   "source": [
    "### 2.3.6 Removing Unmeaningful Words 6th Attempt"
   ]
  },
  {
   "cell_type": "code",
   "execution_count": 42,
   "metadata": {
    "Collapsed": "false"
   },
   "outputs": [],
   "source": [
    "for word in ['quite','bit','go','people','car']:\n",
    "    stop_words.append(word)"
   ]
  },
  {
   "cell_type": "code",
   "execution_count": 43,
   "metadata": {
    "Collapsed": "false"
   },
   "outputs": [],
   "source": [
    "flat_list_reviews_no_stop_7 = [word for word in flat_list_reviews_no_stop_6 if word not in stop_words]"
   ]
  },
  {
   "cell_type": "code",
   "execution_count": 44,
   "metadata": {
    "Collapsed": "false"
   },
   "outputs": [
    {
     "data": {
      "image/png": "[encoded data removed]",
      "text/plain": [
       "<Figure size 720x576 with 1 Axes>"
      ]
     },
     "metadata": {
      "needs_background": "light"
     },
     "output_type": "display_data"
    }
   ],
   "source": [
    "plt.figure(figsize=(10,8))\n",
    "FreqDist(flat_list_reviews_no_stop_7).plot(20)\n",
    "plt.show()"
   ]
  },
  {
   "cell_type": "markdown",
   "metadata": {
    "Collapsed": "false"
   },
   "source": [
    "### 2.3.7 Word Cloud for Reviews"
   ]
  },
  {
   "cell_type": "code",
   "execution_count": 45,
   "metadata": {
    "Collapsed": "false"
   },
   "outputs": [],
   "source": [
    "flat_clean_str = \" \".join(flat_list_reviews_no_stop_6)"
   ]
  },
  {
   "cell_type": "code",
   "execution_count": 46,
   "metadata": {
    "Collapsed": "false"
   },
   "outputs": [],
   "source": [
    "#wordcloud = WordCloud(width = 3000,\n",
    "#                      height = 2000,\n",
    "#                      background_color = 'black',\n",
    "#                      stopwords = stop_words)\n",
    "#\n",
    "#wordcloud.generate(flat_clean_str)\n",
    "#\n",
    "#plt.figure(figsize = (10,10),\n",
    "#           facecolor = 'k',\n",
    "#           edgecolor = 'k')\n",
    "#\n",
    "#plt.imshow(wordcloud, interpolation = 'bilinear')\n",
    "#plt.axis('off')\n",
    "#plt.tight_layout(pad=0)\n",
    "#plt.show()"
   ]
  },
  {
   "cell_type": "markdown",
   "metadata": {
    "Collapsed": "false"
   },
   "source": [
    "## 2.4 Stemming and Lemming"
   ]
  },
  {
   "cell_type": "markdown",
   "metadata": {
    "Collapsed": "false"
   },
   "source": [
    "To narrow down the feature words I applied stemmation and lemmitisation to both the reviews and review summaries. "
   ]
  },
  {
   "cell_type": "code",
   "execution_count": 47,
   "metadata": {
    "Collapsed": "false"
   },
   "outputs": [],
   "source": [
    "stemmer = PorterStemmer()\n",
    "lemmy = WordNetLemmatizer()"
   ]
  },
  {
   "cell_type": "code",
   "execution_count": 48,
   "metadata": {
    "Collapsed": "false"
   },
   "outputs": [],
   "source": [
    "def apply_stem(doc):\n",
    "    \n",
    "    doc_split = doc.split(' ')\n",
    "    stem_doc = ''\n",
    "    for word in doc_split:\n",
    "        stem_doc += stemmer.stem(word) + ' '\n",
    "        \n",
    "    return stem_doc\n",
    "\n",
    "\n",
    "\n",
    "def apply_lem(doc):\n",
    "    \n",
    "    doc_split = doc.split(' ')\n",
    "    lem_v_doc = ''\n",
    "    for word in doc_split:\n",
    "        lem_v_doc += lemmy.lemmatize(word, pos='v') + ' '\n",
    "        \n",
    "    doc_split = lem_v_doc.split(' ')\n",
    "    lem_doc = ''\n",
    "    for word in doc_split:\n",
    "        lem_doc += lemmy.lemmatize(word, pos='a') + ' '\n",
    "        \n",
    "    return lem_doc"
   ]
  },
  {
   "cell_type": "code",
   "execution_count": 49,
   "metadata": {
    "Collapsed": "false"
   },
   "outputs": [],
   "source": [
    "df['review_stemmed'] = df['review'].apply(apply_stem)\n",
    "df['review_lemmed'] = df['review'].apply(apply_lem)\n",
    "\n",
    "df['review_summary_stemmed'] = df['review_summary'].apply(apply_stem)\n",
    "df['review_summary_lemmed'] = df['review_summary'].apply(apply_lem)"
   ]
  },
  {
   "cell_type": "code",
   "execution_count": 50,
   "metadata": {
    "Collapsed": "false"
   },
   "outputs": [
    {
     "name": "stdout",
     "output_type": "stream",
     "text": [
      "ORIGINAL REVIEW SUMMARY: \n",
      " So disappointing \n",
      "\n",
      "ORIGINAL REVIEW: \n",
      " Spent four nights here for a work event so in essence I didn't pay, work did. Nonetheless I felt if I was short changed. Don't expect a \"Hilton\" quality or service. This hotel is on a corner of a busy street which is hell if you're in an adjacent room. 1st room in the east wing fourth floor was awful. Very tired, cheap mattress, and facing the main road. It was a noisy and uncomfortable night. I asked to change rooms and was told I wound need to pack and bring my belongings to reception. They could have moved this for me!! Second room was a newer styled room but the cost saving was still apparent. Cheap mattress, cracked sink, holes in the wall and no hair dryer. This is not a high quality Hilton. Lesser prestigious hotels are providing better service with a higher quality.  \n",
      "\n",
      "STEMMED REVIEW SUMMARY: \n",
      " So disappoint  \n",
      "\n",
      "STEMMED REIVEW: \n",
      " spent four night here for a work event so in essenc I didn't pay, work did. nonetheless I felt if I wa short changed. don't expect a \"hilton\" qualiti or service. thi hotel is on a corner of a busi street which is hell if you'r in an adjac room. 1st room in the east wing fourth floor wa awful. veri tired, cheap mattress, and face the main road. It wa a noisi and uncomfort night. I ask to chang room and wa told I wound need to pack and bring my belong to reception. they could have move thi for me!! second room wa a newer style room but the cost save wa still apparent. cheap mattress, crack sink, hole in the wall and no hair dryer. thi is not a high qualiti hilton. lesser prestigi hotel are provid better servic with a higher quality.   \n",
      "\n",
      "LEMMED REVIEW SUMMARY: \n",
      " So disappoint   \n",
      "\n",
      "LEMMED REVIEW: \n",
      " Spent four nights here for a work event so in essence I didn't pay, work did. Nonetheless I felt if I be short changed. Don't expect a \"Hilton\" quality or service. This hotel be on a corner of a busy street which be hell if you're in an adjacent room. 1st room in the east wing fourth floor be awful. Very tired, cheap mattress, and face the main road. It be a noisy and uncomfortable night. I ask to change room and be tell I wind need to pack and bring my belong to reception. They could have move this for me!! Second room be a new style room but the cost save be still apparent. Cheap mattress, crack sink, hole in the wall and no hair dryer. This be not a high quality Hilton. Lesser prestigious hotels be provide good service with a high quality.    \n",
      "\n"
     ]
    }
   ],
   "source": [
    "review_index_to_check = 1013\n",
    "print(\"ORIGINAL REVIEW SUMMARY:\",'\\n',df['review_summary'].iloc[review_index_to_check],'\\n')\n",
    "print(\"ORIGINAL REVIEW:\",'\\n',df['review'].iloc[review_index_to_check],'\\n')\n",
    "print(\"STEMMED REVIEW SUMMARY:\",'\\n',df['review_summary_stemmed'].iloc[review_index_to_check],'\\n')\n",
    "print(\"STEMMED REIVEW:\",'\\n',df['review_stemmed'].iloc[review_index_to_check],'\\n')\n",
    "print(\"LEMMED REVIEW SUMMARY:\",'\\n',df['review_summary_lemmed'].iloc[review_index_to_check],'\\n')\n",
    "print(\"LEMMED REVIEW:\",'\\n',df['review_lemmed'].iloc[review_index_to_check],'\\n')"
   ]
  },
  {
   "cell_type": "markdown",
   "metadata": {
    "Collapsed": "false"
   },
   "source": [
    "Stemmation had broken down some words into words that don't exist, whereas lemmitisation had simplified adjectives and verbs to their root form. I chose to continue with the lemmitised version of the texts for further processing."
   ]
  },
  {
   "cell_type": "code",
   "execution_count": 51,
   "metadata": {
    "Collapsed": "false"
   },
   "outputs": [
    {
     "data": {
      "text/html": [
       "<div>\n",
       "<style scoped>\n",
       "    .dataframe tbody tr th:only-of-type {\n",
       "        vertical-align: middle;\n",
       "    }\n",
       "\n",
       "    .dataframe tbody tr th {\n",
       "        vertical-align: top;\n",
       "    }\n",
       "\n",
       "    .dataframe thead th {\n",
       "        text-align: right;\n",
       "    }\n",
       "</style>\n",
       "<table border=\"1\" class=\"dataframe\">\n",
       "  <thead>\n",
       "    <tr style=\"text-align: right;\">\n",
       "      <th></th>\n",
       "      <th>hotel_name</th>\n",
       "      <th>review_summary</th>\n",
       "      <th>score</th>\n",
       "      <th>review</th>\n",
       "      <th>review_stemmed</th>\n",
       "      <th>review_lemmed</th>\n",
       "      <th>review_summary_stemmed</th>\n",
       "      <th>review_summary_lemmed</th>\n",
       "    </tr>\n",
       "  </thead>\n",
       "  <tbody>\n",
       "    <tr>\n",
       "      <th>0</th>\n",
       "      <td>Hotel Hilton London Gatwick Airport</td>\n",
       "      <td>Awful...</td>\n",
       "      <td>1</td>\n",
       "      <td>Its hard to find words that can describe this ...</td>\n",
       "      <td>it hard to find word that can describ thi expe...</td>\n",
       "      <td>Its hard to find word that can describe this e...</td>\n",
       "      <td>awful...</td>\n",
       "      <td>Awful...</td>\n",
       "    </tr>\n",
       "    <tr>\n",
       "      <th>1</th>\n",
       "      <td>Hilton London Metropole</td>\n",
       "      <td>Terrible</td>\n",
       "      <td>1</td>\n",
       "      <td>Absolutely terrible. Cracked ceiling, tiny roo...</td>\n",
       "      <td>absolut terrible. crack ceiling, tini room, ba...</td>\n",
       "      <td>Absolutely terrible. Cracked ceiling, tiny roo...</td>\n",
       "      <td>terribl</td>\n",
       "      <td>Terrible</td>\n",
       "    </tr>\n",
       "    <tr>\n",
       "      <th>2</th>\n",
       "      <td>Hilton London Euston</td>\n",
       "      <td>Double deposit taken from bank</td>\n",
       "      <td>1</td>\n",
       "      <td>Very disappointed firstly i checked in online ...</td>\n",
       "      <td>veri disappoint firstli i check in onlin but h...</td>\n",
       "      <td>Very disappoint firstly i check in online but ...</td>\n",
       "      <td>doubl deposit taken from bank</td>\n",
       "      <td>Double deposit take from bank</td>\n",
       "    </tr>\n",
       "    <tr>\n",
       "      <th>3</th>\n",
       "      <td>Hilton London Metropole</td>\n",
       "      <td>Super disappointed!</td>\n",
       "      <td>1</td>\n",
       "      <td>First of all we arrived wanting to park at the...</td>\n",
       "      <td>first of all we arriv want to park at the hote...</td>\n",
       "      <td>First of all we arrive want to park at the hot...</td>\n",
       "      <td>super disappointed!</td>\n",
       "      <td>Super disappointed!</td>\n",
       "    </tr>\n",
       "    <tr>\n",
       "      <th>4</th>\n",
       "      <td>Hilton London Metropole</td>\n",
       "      <td>Dissatisfied Hilton gold number</td>\n",
       "      <td>1</td>\n",
       "      <td>Hello,  I currently staying @ Hilton Metropole...</td>\n",
       "      <td>hello,  I current stay @ hilton metropol in lo...</td>\n",
       "      <td>Hello,  I currently stay @ Hilton Metropole in...</td>\n",
       "      <td>dissatisfi hilton gold number</td>\n",
       "      <td>Dissatisfied Hilton gold number</td>\n",
       "    </tr>\n",
       "  </tbody>\n",
       "</table>\n",
       "</div>"
      ],
      "text/plain": [
       "                            hotel_name                   review_summary  \\\n",
       "0  Hotel Hilton London Gatwick Airport                         Awful...   \n",
       "1              Hilton London Metropole                        Terrible    \n",
       "2                 Hilton London Euston   Double deposit taken from bank   \n",
       "3              Hilton London Metropole              Super disappointed!   \n",
       "4              Hilton London Metropole  Dissatisfied Hilton gold number   \n",
       "\n",
       "   score                                             review  \\\n",
       "0      1  Its hard to find words that can describe this ...   \n",
       "1      1  Absolutely terrible. Cracked ceiling, tiny roo...   \n",
       "2      1  Very disappointed firstly i checked in online ...   \n",
       "3      1  First of all we arrived wanting to park at the...   \n",
       "4      1  Hello,  I currently staying @ Hilton Metropole...   \n",
       "\n",
       "                                      review_stemmed  \\\n",
       "0  it hard to find word that can describ thi expe...   \n",
       "1  absolut terrible. crack ceiling, tini room, ba...   \n",
       "2  veri disappoint firstli i check in onlin but h...   \n",
       "3  first of all we arriv want to park at the hote...   \n",
       "4  hello,  I current stay @ hilton metropol in lo...   \n",
       "\n",
       "                                       review_lemmed  \\\n",
       "0  Its hard to find word that can describe this e...   \n",
       "1  Absolutely terrible. Cracked ceiling, tiny roo...   \n",
       "2  Very disappoint firstly i check in online but ...   \n",
       "3  First of all we arrive want to park at the hot...   \n",
       "4  Hello,  I currently stay @ Hilton Metropole in...   \n",
       "\n",
       "           review_summary_stemmed              review_summary_lemmed  \n",
       "0                       awful...                          Awful...    \n",
       "1                       terribl                          Terrible     \n",
       "2  doubl deposit taken from bank     Double deposit take from bank    \n",
       "3            super disappointed!               Super disappointed!    \n",
       "4  dissatisfi hilton gold number   Dissatisfied Hilton gold number    "
      ]
     },
     "execution_count": 51,
     "metadata": {},
     "output_type": "execute_result"
    }
   ],
   "source": [
    "df.head()"
   ]
  },
  {
   "cell_type": "markdown",
   "metadata": {
    "Collapsed": "false"
   },
   "source": [
    "## 2.5 Train Test Split"
   ]
  },
  {
   "cell_type": "markdown",
   "metadata": {
    "Collapsed": "false"
   },
   "source": [
    "Prior to vectorising the current dataset, I did a train, test split to save the test data for after modelling."
   ]
  },
  {
   "cell_type": "code",
   "execution_count": 52,
   "metadata": {
    "Collapsed": "false"
   },
   "outputs": [],
   "source": [
    "x_train, x_test, y_train, y_test = train_test_split(df.drop(columns=['hotel_name','score']), \n",
    "                                                    df['score'], \n",
    "                                                    test_size=.2, \n",
    "                                                    random_state=42)"
   ]
  },
  {
   "cell_type": "code",
   "execution_count": 53,
   "metadata": {
    "Collapsed": "false"
   },
   "outputs": [
    {
     "name": "stdout",
     "output_type": "stream",
     "text": [
      "(7524, 6)\n",
      "(1881, 6)\n",
      "(7524,)\n",
      "(1881,)\n"
     ]
    }
   ],
   "source": [
    "print(x_train.shape)\n",
    "print(x_test.shape)\n",
    "print(y_train.shape)\n",
    "print(y_test.shape)"
   ]
  },
  {
   "cell_type": "code",
   "execution_count": 54,
   "metadata": {
    "Collapsed": "false"
   },
   "outputs": [
    {
     "data": {
      "text/html": [
       "<div>\n",
       "<style scoped>\n",
       "    .dataframe tbody tr th:only-of-type {\n",
       "        vertical-align: middle;\n",
       "    }\n",
       "\n",
       "    .dataframe tbody tr th {\n",
       "        vertical-align: top;\n",
       "    }\n",
       "\n",
       "    .dataframe thead th {\n",
       "        text-align: right;\n",
       "    }\n",
       "</style>\n",
       "<table border=\"1\" class=\"dataframe\">\n",
       "  <thead>\n",
       "    <tr style=\"text-align: right;\">\n",
       "      <th></th>\n",
       "      <th>score</th>\n",
       "    </tr>\n",
       "  </thead>\n",
       "  <tbody>\n",
       "    <tr>\n",
       "      <th>0</th>\n",
       "      <td>5</td>\n",
       "    </tr>\n",
       "    <tr>\n",
       "      <th>1</th>\n",
       "      <td>1</td>\n",
       "    </tr>\n",
       "    <tr>\n",
       "      <th>2</th>\n",
       "      <td>4</td>\n",
       "    </tr>\n",
       "    <tr>\n",
       "      <th>3</th>\n",
       "      <td>3</td>\n",
       "    </tr>\n",
       "    <tr>\n",
       "      <th>4</th>\n",
       "      <td>4</td>\n",
       "    </tr>\n",
       "  </tbody>\n",
       "</table>\n",
       "</div>"
      ],
      "text/plain": [
       "   score\n",
       "0      5\n",
       "1      1\n",
       "2      4\n",
       "3      3\n",
       "4      4"
      ]
     },
     "execution_count": 54,
     "metadata": {},
     "output_type": "execute_result"
    }
   ],
   "source": [
    "y_train_df = pd.DataFrame(y_train).reset_index(drop=True)\n",
    "y_test_df = pd.DataFrame(y_test).reset_index(drop=True)\n",
    "y_train_df.head()"
   ]
  },
  {
   "cell_type": "markdown",
   "metadata": {
    "Collapsed": "false"
   },
   "source": [
    "## 2.6 TF-IDF Vectorisation for Reviews"
   ]
  },
  {
   "cell_type": "code",
   "execution_count": 55,
   "metadata": {
    "Collapsed": "false"
   },
   "outputs": [
    {
     "data": {
      "text/html": [
       "<div>\n",
       "<style scoped>\n",
       "    .dataframe tbody tr th:only-of-type {\n",
       "        vertical-align: middle;\n",
       "    }\n",
       "\n",
       "    .dataframe tbody tr th {\n",
       "        vertical-align: top;\n",
       "    }\n",
       "\n",
       "    .dataframe thead th {\n",
       "        text-align: right;\n",
       "    }\n",
       "</style>\n",
       "<table border=\"1\" class=\"dataframe\">\n",
       "  <thead>\n",
       "    <tr style=\"text-align: right;\">\n",
       "      <th></th>\n",
       "      <th>access</th>\n",
       "      <th>air</th>\n",
       "      <th>although</th>\n",
       "      <th>always</th>\n",
       "      <th>another</th>\n",
       "      <th>around</th>\n",
       "      <th>arrival</th>\n",
       "      <th>arrive</th>\n",
       "      <th>ask</th>\n",
       "      <th>away</th>\n",
       "      <th>...</th>\n",
       "      <th>travel</th>\n",
       "      <th>try</th>\n",
       "      <th>upgrade</th>\n",
       "      <th>use</th>\n",
       "      <th>visit</th>\n",
       "      <th>wait</th>\n",
       "      <th>want</th>\n",
       "      <th>water</th>\n",
       "      <th>way</th>\n",
       "      <th>well</th>\n",
       "    </tr>\n",
       "  </thead>\n",
       "  <tbody>\n",
       "    <tr>\n",
       "      <th>0</th>\n",
       "      <td>0.0</td>\n",
       "      <td>0.0</td>\n",
       "      <td>0.0</td>\n",
       "      <td>0.0</td>\n",
       "      <td>0.0</td>\n",
       "      <td>0.262334</td>\n",
       "      <td>0.288137</td>\n",
       "      <td>0.0</td>\n",
       "      <td>0.0</td>\n",
       "      <td>0.0</td>\n",
       "      <td>...</td>\n",
       "      <td>0.0</td>\n",
       "      <td>0.0</td>\n",
       "      <td>0.0</td>\n",
       "      <td>0.0</td>\n",
       "      <td>0.0</td>\n",
       "      <td>0.000000</td>\n",
       "      <td>0.0</td>\n",
       "      <td>0.0</td>\n",
       "      <td>0.0</td>\n",
       "      <td>0.00000</td>\n",
       "    </tr>\n",
       "    <tr>\n",
       "      <th>1</th>\n",
       "      <td>0.0</td>\n",
       "      <td>0.0</td>\n",
       "      <td>0.0</td>\n",
       "      <td>0.0</td>\n",
       "      <td>0.0</td>\n",
       "      <td>0.000000</td>\n",
       "      <td>0.000000</td>\n",
       "      <td>0.0</td>\n",
       "      <td>0.0</td>\n",
       "      <td>0.0</td>\n",
       "      <td>...</td>\n",
       "      <td>0.0</td>\n",
       "      <td>0.0</td>\n",
       "      <td>0.0</td>\n",
       "      <td>0.0</td>\n",
       "      <td>0.0</td>\n",
       "      <td>0.401164</td>\n",
       "      <td>0.0</td>\n",
       "      <td>0.0</td>\n",
       "      <td>0.0</td>\n",
       "      <td>0.00000</td>\n",
       "    </tr>\n",
       "    <tr>\n",
       "      <th>2</th>\n",
       "      <td>0.0</td>\n",
       "      <td>0.0</td>\n",
       "      <td>0.0</td>\n",
       "      <td>0.0</td>\n",
       "      <td>0.0</td>\n",
       "      <td>0.000000</td>\n",
       "      <td>0.000000</td>\n",
       "      <td>0.0</td>\n",
       "      <td>0.0</td>\n",
       "      <td>0.0</td>\n",
       "      <td>...</td>\n",
       "      <td>0.0</td>\n",
       "      <td>0.0</td>\n",
       "      <td>0.0</td>\n",
       "      <td>0.0</td>\n",
       "      <td>0.0</td>\n",
       "      <td>0.000000</td>\n",
       "      <td>0.0</td>\n",
       "      <td>0.0</td>\n",
       "      <td>0.0</td>\n",
       "      <td>0.51693</td>\n",
       "    </tr>\n",
       "    <tr>\n",
       "      <th>3</th>\n",
       "      <td>0.0</td>\n",
       "      <td>0.0</td>\n",
       "      <td>0.0</td>\n",
       "      <td>0.0</td>\n",
       "      <td>0.0</td>\n",
       "      <td>0.000000</td>\n",
       "      <td>0.000000</td>\n",
       "      <td>0.0</td>\n",
       "      <td>0.0</td>\n",
       "      <td>0.0</td>\n",
       "      <td>...</td>\n",
       "      <td>0.0</td>\n",
       "      <td>0.0</td>\n",
       "      <td>0.0</td>\n",
       "      <td>0.0</td>\n",
       "      <td>0.0</td>\n",
       "      <td>0.000000</td>\n",
       "      <td>0.0</td>\n",
       "      <td>0.0</td>\n",
       "      <td>0.0</td>\n",
       "      <td>0.00000</td>\n",
       "    </tr>\n",
       "    <tr>\n",
       "      <th>4</th>\n",
       "      <td>0.0</td>\n",
       "      <td>0.0</td>\n",
       "      <td>0.0</td>\n",
       "      <td>0.0</td>\n",
       "      <td>0.0</td>\n",
       "      <td>0.000000</td>\n",
       "      <td>0.286870</td>\n",
       "      <td>0.0</td>\n",
       "      <td>0.0</td>\n",
       "      <td>0.0</td>\n",
       "      <td>...</td>\n",
       "      <td>0.0</td>\n",
       "      <td>0.0</td>\n",
       "      <td>0.0</td>\n",
       "      <td>0.0</td>\n",
       "      <td>0.0</td>\n",
       "      <td>0.000000</td>\n",
       "      <td>0.0</td>\n",
       "      <td>0.0</td>\n",
       "      <td>0.0</td>\n",
       "      <td>0.00000</td>\n",
       "    </tr>\n",
       "  </tbody>\n",
       "</table>\n",
       "<p>5 rows × 112 columns</p>\n",
       "</div>"
      ],
      "text/plain": [
       "   access  air  although  always  another    around   arrival  arrive  ask  \\\n",
       "0     0.0  0.0       0.0     0.0      0.0  0.262334  0.288137     0.0  0.0   \n",
       "1     0.0  0.0       0.0     0.0      0.0  0.000000  0.000000     0.0  0.0   \n",
       "2     0.0  0.0       0.0     0.0      0.0  0.000000  0.000000     0.0  0.0   \n",
       "3     0.0  0.0       0.0     0.0      0.0  0.000000  0.000000     0.0  0.0   \n",
       "4     0.0  0.0       0.0     0.0      0.0  0.000000  0.286870     0.0  0.0   \n",
       "\n",
       "   away  ...  travel  try  upgrade  use  visit      wait  want  water  way  \\\n",
       "0   0.0  ...     0.0  0.0      0.0  0.0    0.0  0.000000   0.0    0.0  0.0   \n",
       "1   0.0  ...     0.0  0.0      0.0  0.0    0.0  0.401164   0.0    0.0  0.0   \n",
       "2   0.0  ...     0.0  0.0      0.0  0.0    0.0  0.000000   0.0    0.0  0.0   \n",
       "3   0.0  ...     0.0  0.0      0.0  0.0    0.0  0.000000   0.0    0.0  0.0   \n",
       "4   0.0  ...     0.0  0.0      0.0  0.0    0.0  0.000000   0.0    0.0  0.0   \n",
       "\n",
       "      well  \n",
       "0  0.00000  \n",
       "1  0.00000  \n",
       "2  0.51693  \n",
       "3  0.00000  \n",
       "4  0.00000  \n",
       "\n",
       "[5 rows x 112 columns]"
      ]
     },
     "execution_count": 55,
     "metadata": {},
     "output_type": "execute_result"
    }
   ],
   "source": [
    "tokenizer = RegexpTokenizer(r'[a-zA-Z]+')\n",
    "\n",
    "tf_idf_vect = TfidfVectorizer(lowercase=True,\n",
    "                              tokenizer = tokenizer.tokenize, \n",
    "                              stop_words=stop_words, \n",
    "                              ngram_range=(1,2),\n",
    "                              min_df = 0.05)\n",
    " \n",
    "x_lemm_train_tfidf_sparse = tf_idf_vect.fit_transform(x_train['review_lemmed'])\n",
    "\n",
    "x_lemm_test_tfidf_sparse = tf_idf_vect.transform(x_test['review_lemmed'])\n",
    "\n",
    "\n",
    "x_lemm_train_tfidf = pd.DataFrame(x_lemm_train_tfidf_sparse.toarray(), \n",
    "                                  columns=tf_idf_vect.get_feature_names())\n",
    "\n",
    "x_lemm_test_tfidf = pd.DataFrame(x_lemm_test_tfidf_sparse.toarray(), \n",
    "                                  columns=tf_idf_vect.get_feature_names())\n",
    "\n",
    "\n",
    "x_lemm_train_tfidf.head()"
   ]
  },
  {
   "cell_type": "markdown",
   "metadata": {
    "Collapsed": "false"
   },
   "source": [
    "## 2.7 TF-IDF Vectorisation for Review Summaries"
   ]
  },
  {
   "cell_type": "code",
   "execution_count": 68,
   "metadata": {
    "Collapsed": "false"
   },
   "outputs": [
    {
     "data": {
      "text/html": [
       "<div>\n",
       "<style scoped>\n",
       "    .dataframe tbody tr th:only-of-type {\n",
       "        vertical-align: middle;\n",
       "    }\n",
       "\n",
       "    .dataframe tbody tr th {\n",
       "        vertical-align: top;\n",
       "    }\n",
       "\n",
       "    .dataframe thead th {\n",
       "        text-align: right;\n",
       "    }\n",
       "</style>\n",
       "<table border=\"1\" class=\"dataframe\">\n",
       "  <thead>\n",
       "    <tr style=\"text-align: right;\">\n",
       "      <th></th>\n",
       "      <th>average</th>\n",
       "      <th>awful</th>\n",
       "      <th>bad</th>\n",
       "      <th>best</th>\n",
       "      <th>comfortable</th>\n",
       "      <th>convenient</th>\n",
       "      <th>customer</th>\n",
       "      <th>disappoint</th>\n",
       "      <th>disappointing</th>\n",
       "      <th>excellent</th>\n",
       "      <th>...</th>\n",
       "      <th>perfect</th>\n",
       "      <th>place</th>\n",
       "      <th>poor</th>\n",
       "      <th>standard</th>\n",
       "      <th>start</th>\n",
       "      <th>terrible</th>\n",
       "      <th>tire</th>\n",
       "      <th>tired</th>\n",
       "      <th>value</th>\n",
       "      <th>worst</th>\n",
       "    </tr>\n",
       "  </thead>\n",
       "  <tbody>\n",
       "    <tr>\n",
       "      <th>0</th>\n",
       "      <td>0.0</td>\n",
       "      <td>0.0</td>\n",
       "      <td>0.0</td>\n",
       "      <td>0.0</td>\n",
       "      <td>0.0</td>\n",
       "      <td>0.0</td>\n",
       "      <td>0.0</td>\n",
       "      <td>0.0</td>\n",
       "      <td>0.0</td>\n",
       "      <td>1.0</td>\n",
       "      <td>...</td>\n",
       "      <td>0.0</td>\n",
       "      <td>0.0</td>\n",
       "      <td>0.0</td>\n",
       "      <td>0.0</td>\n",
       "      <td>0.0</td>\n",
       "      <td>0.0</td>\n",
       "      <td>0.0</td>\n",
       "      <td>0.0</td>\n",
       "      <td>0.0</td>\n",
       "      <td>0.0</td>\n",
       "    </tr>\n",
       "    <tr>\n",
       "      <th>1</th>\n",
       "      <td>0.0</td>\n",
       "      <td>0.0</td>\n",
       "      <td>0.0</td>\n",
       "      <td>0.0</td>\n",
       "      <td>0.0</td>\n",
       "      <td>0.0</td>\n",
       "      <td>0.0</td>\n",
       "      <td>0.0</td>\n",
       "      <td>0.0</td>\n",
       "      <td>0.0</td>\n",
       "      <td>...</td>\n",
       "      <td>0.0</td>\n",
       "      <td>0.0</td>\n",
       "      <td>0.0</td>\n",
       "      <td>0.0</td>\n",
       "      <td>0.0</td>\n",
       "      <td>0.0</td>\n",
       "      <td>0.0</td>\n",
       "      <td>0.0</td>\n",
       "      <td>0.0</td>\n",
       "      <td>0.0</td>\n",
       "    </tr>\n",
       "    <tr>\n",
       "      <th>2</th>\n",
       "      <td>0.0</td>\n",
       "      <td>0.0</td>\n",
       "      <td>0.0</td>\n",
       "      <td>0.0</td>\n",
       "      <td>0.0</td>\n",
       "      <td>0.0</td>\n",
       "      <td>0.0</td>\n",
       "      <td>0.0</td>\n",
       "      <td>0.0</td>\n",
       "      <td>0.0</td>\n",
       "      <td>...</td>\n",
       "      <td>0.0</td>\n",
       "      <td>0.0</td>\n",
       "      <td>0.0</td>\n",
       "      <td>0.0</td>\n",
       "      <td>0.0</td>\n",
       "      <td>0.0</td>\n",
       "      <td>0.0</td>\n",
       "      <td>0.0</td>\n",
       "      <td>0.0</td>\n",
       "      <td>0.0</td>\n",
       "    </tr>\n",
       "    <tr>\n",
       "      <th>3</th>\n",
       "      <td>0.0</td>\n",
       "      <td>0.0</td>\n",
       "      <td>0.0</td>\n",
       "      <td>0.0</td>\n",
       "      <td>0.0</td>\n",
       "      <td>0.0</td>\n",
       "      <td>0.0</td>\n",
       "      <td>0.0</td>\n",
       "      <td>0.0</td>\n",
       "      <td>0.0</td>\n",
       "      <td>...</td>\n",
       "      <td>0.0</td>\n",
       "      <td>0.0</td>\n",
       "      <td>0.0</td>\n",
       "      <td>0.0</td>\n",
       "      <td>0.0</td>\n",
       "      <td>0.0</td>\n",
       "      <td>0.0</td>\n",
       "      <td>0.0</td>\n",
       "      <td>0.0</td>\n",
       "      <td>0.0</td>\n",
       "    </tr>\n",
       "    <tr>\n",
       "      <th>4</th>\n",
       "      <td>0.0</td>\n",
       "      <td>0.0</td>\n",
       "      <td>0.0</td>\n",
       "      <td>0.0</td>\n",
       "      <td>0.0</td>\n",
       "      <td>0.0</td>\n",
       "      <td>0.0</td>\n",
       "      <td>0.0</td>\n",
       "      <td>0.0</td>\n",
       "      <td>0.0</td>\n",
       "      <td>...</td>\n",
       "      <td>0.0</td>\n",
       "      <td>0.0</td>\n",
       "      <td>0.0</td>\n",
       "      <td>0.0</td>\n",
       "      <td>0.0</td>\n",
       "      <td>0.0</td>\n",
       "      <td>0.0</td>\n",
       "      <td>0.0</td>\n",
       "      <td>0.0</td>\n",
       "      <td>0.0</td>\n",
       "    </tr>\n",
       "  </tbody>\n",
       "</table>\n",
       "<p>5 rows × 26 columns</p>\n",
       "</div>"
      ],
      "text/plain": [
       "   average  awful  bad  best  comfortable  convenient  customer  disappoint  \\\n",
       "0      0.0    0.0  0.0   0.0          0.0         0.0       0.0         0.0   \n",
       "1      0.0    0.0  0.0   0.0          0.0         0.0       0.0         0.0   \n",
       "2      0.0    0.0  0.0   0.0          0.0         0.0       0.0         0.0   \n",
       "3      0.0    0.0  0.0   0.0          0.0         0.0       0.0         0.0   \n",
       "4      0.0    0.0  0.0   0.0          0.0         0.0       0.0         0.0   \n",
       "\n",
       "   disappointing  excellent  ...  perfect  place  poor  standard  start  \\\n",
       "0            0.0        1.0  ...      0.0    0.0   0.0       0.0    0.0   \n",
       "1            0.0        0.0  ...      0.0    0.0   0.0       0.0    0.0   \n",
       "2            0.0        0.0  ...      0.0    0.0   0.0       0.0    0.0   \n",
       "3            0.0        0.0  ...      0.0    0.0   0.0       0.0    0.0   \n",
       "4            0.0        0.0  ...      0.0    0.0   0.0       0.0    0.0   \n",
       "\n",
       "   terrible  tire  tired  value  worst  \n",
       "0       0.0   0.0    0.0    0.0    0.0  \n",
       "1       0.0   0.0    0.0    0.0    0.0  \n",
       "2       0.0   0.0    0.0    0.0    0.0  \n",
       "3       0.0   0.0    0.0    0.0    0.0  \n",
       "4       0.0   0.0    0.0    0.0    0.0  \n",
       "\n",
       "[5 rows x 26 columns]"
      ]
     },
     "execution_count": 68,
     "metadata": {},
     "output_type": "execute_result"
    }
   ],
   "source": [
    "tokenizer_summary = RegexpTokenizer(r'[a-zA-Z]+')\n",
    "\n",
    "tf_idf_vect_summary = TfidfVectorizer(lowercase=True, \n",
    "                                      tokenizer = tokenizer_summary.tokenize, \n",
    "                                      stop_words=stop_words, \n",
    "                                      ngram_range=(1,2),\n",
    "                                      min_df = 0.01)\n",
    "\n",
    "x_lemm_train_summary_tfidf_sparse = tf_idf_vect_summary.fit_transform(x_train['review_summary_lemmed'])\n",
    "\n",
    "x_lemm_test_summary_tfidf_sparse = tf_idf_vect_summary.transform(x_test['review_summary_lemmed'])\n",
    "\n",
    "\n",
    "x_lemm_train_summary_tfidf = pd.DataFrame(x_lemm_train_summary_tfidf_sparse.toarray(), \n",
    "                                          columns=tf_idf_vect_summary.get_feature_names())\n",
    "\n",
    "x_lemm_test_summary_tfidf = pd.DataFrame(x_lemm_test_summary_tfidf_sparse.toarray(), \n",
    "                                         columns=tf_idf_vect_summary.get_feature_names())\n",
    "\n",
    "\n",
    "x_lemm_train_summary_tfidf.head()"
   ]
  },
  {
   "cell_type": "markdown",
   "metadata": {
    "Collapsed": "false"
   },
   "source": [
    "## 2.8 Joining Reviews With Review Summaries"
   ]
  },
  {
   "cell_type": "code",
   "execution_count": 52,
   "metadata": {
    "Collapsed": "false"
   },
   "outputs": [
    {
     "data": {
      "text/html": [
       "<div>\n",
       "<style scoped>\n",
       "    .dataframe tbody tr th:only-of-type {\n",
       "        vertical-align: middle;\n",
       "    }\n",
       "\n",
       "    .dataframe tbody tr th {\n",
       "        vertical-align: top;\n",
       "    }\n",
       "\n",
       "    .dataframe thead th {\n",
       "        text-align: right;\n",
       "    }\n",
       "</style>\n",
       "<table border=\"1\" class=\"dataframe\">\n",
       "  <thead>\n",
       "    <tr style=\"text-align: right;\">\n",
       "      <th></th>\n",
       "      <th>average</th>\n",
       "      <th>awful</th>\n",
       "      <th>bad_sum</th>\n",
       "      <th>best_sum</th>\n",
       "      <th>comfortable_sum</th>\n",
       "      <th>convenient_sum</th>\n",
       "      <th>customer</th>\n",
       "      <th>disappoint</th>\n",
       "      <th>disappointing</th>\n",
       "      <th>excellent_sum</th>\n",
       "      <th>...</th>\n",
       "      <th>travel</th>\n",
       "      <th>try</th>\n",
       "      <th>upgrade</th>\n",
       "      <th>use</th>\n",
       "      <th>visit</th>\n",
       "      <th>wait</th>\n",
       "      <th>want</th>\n",
       "      <th>water</th>\n",
       "      <th>way</th>\n",
       "      <th>well</th>\n",
       "    </tr>\n",
       "  </thead>\n",
       "  <tbody>\n",
       "    <tr>\n",
       "      <td>0</td>\n",
       "      <td>0.0</td>\n",
       "      <td>0.0</td>\n",
       "      <td>0.0</td>\n",
       "      <td>0.0</td>\n",
       "      <td>0.0</td>\n",
       "      <td>0.0</td>\n",
       "      <td>0.0</td>\n",
       "      <td>0.0</td>\n",
       "      <td>0.0</td>\n",
       "      <td>1.0</td>\n",
       "      <td>...</td>\n",
       "      <td>0.0</td>\n",
       "      <td>0.0</td>\n",
       "      <td>0.0</td>\n",
       "      <td>0.0</td>\n",
       "      <td>0.0</td>\n",
       "      <td>0.000000</td>\n",
       "      <td>0.0</td>\n",
       "      <td>0.0</td>\n",
       "      <td>0.0</td>\n",
       "      <td>0.00000</td>\n",
       "    </tr>\n",
       "    <tr>\n",
       "      <td>1</td>\n",
       "      <td>0.0</td>\n",
       "      <td>0.0</td>\n",
       "      <td>0.0</td>\n",
       "      <td>0.0</td>\n",
       "      <td>0.0</td>\n",
       "      <td>0.0</td>\n",
       "      <td>0.0</td>\n",
       "      <td>0.0</td>\n",
       "      <td>0.0</td>\n",
       "      <td>0.0</td>\n",
       "      <td>...</td>\n",
       "      <td>0.0</td>\n",
       "      <td>0.0</td>\n",
       "      <td>0.0</td>\n",
       "      <td>0.0</td>\n",
       "      <td>0.0</td>\n",
       "      <td>0.401164</td>\n",
       "      <td>0.0</td>\n",
       "      <td>0.0</td>\n",
       "      <td>0.0</td>\n",
       "      <td>0.00000</td>\n",
       "    </tr>\n",
       "    <tr>\n",
       "      <td>2</td>\n",
       "      <td>0.0</td>\n",
       "      <td>0.0</td>\n",
       "      <td>0.0</td>\n",
       "      <td>0.0</td>\n",
       "      <td>0.0</td>\n",
       "      <td>0.0</td>\n",
       "      <td>0.0</td>\n",
       "      <td>0.0</td>\n",
       "      <td>0.0</td>\n",
       "      <td>0.0</td>\n",
       "      <td>...</td>\n",
       "      <td>0.0</td>\n",
       "      <td>0.0</td>\n",
       "      <td>0.0</td>\n",
       "      <td>0.0</td>\n",
       "      <td>0.0</td>\n",
       "      <td>0.000000</td>\n",
       "      <td>0.0</td>\n",
       "      <td>0.0</td>\n",
       "      <td>0.0</td>\n",
       "      <td>0.51693</td>\n",
       "    </tr>\n",
       "    <tr>\n",
       "      <td>3</td>\n",
       "      <td>0.0</td>\n",
       "      <td>0.0</td>\n",
       "      <td>0.0</td>\n",
       "      <td>0.0</td>\n",
       "      <td>0.0</td>\n",
       "      <td>0.0</td>\n",
       "      <td>0.0</td>\n",
       "      <td>0.0</td>\n",
       "      <td>0.0</td>\n",
       "      <td>0.0</td>\n",
       "      <td>...</td>\n",
       "      <td>0.0</td>\n",
       "      <td>0.0</td>\n",
       "      <td>0.0</td>\n",
       "      <td>0.0</td>\n",
       "      <td>0.0</td>\n",
       "      <td>0.000000</td>\n",
       "      <td>0.0</td>\n",
       "      <td>0.0</td>\n",
       "      <td>0.0</td>\n",
       "      <td>0.00000</td>\n",
       "    </tr>\n",
       "    <tr>\n",
       "      <td>4</td>\n",
       "      <td>0.0</td>\n",
       "      <td>0.0</td>\n",
       "      <td>0.0</td>\n",
       "      <td>0.0</td>\n",
       "      <td>0.0</td>\n",
       "      <td>0.0</td>\n",
       "      <td>0.0</td>\n",
       "      <td>0.0</td>\n",
       "      <td>0.0</td>\n",
       "      <td>0.0</td>\n",
       "      <td>...</td>\n",
       "      <td>0.0</td>\n",
       "      <td>0.0</td>\n",
       "      <td>0.0</td>\n",
       "      <td>0.0</td>\n",
       "      <td>0.0</td>\n",
       "      <td>0.000000</td>\n",
       "      <td>0.0</td>\n",
       "      <td>0.0</td>\n",
       "      <td>0.0</td>\n",
       "      <td>0.00000</td>\n",
       "    </tr>\n",
       "  </tbody>\n",
       "</table>\n",
       "<p>5 rows × 138 columns</p>\n",
       "</div>"
      ],
      "text/plain": [
       "   average  awful  bad_sum  best_sum  comfortable_sum  convenient_sum  \\\n",
       "0      0.0    0.0      0.0       0.0              0.0             0.0   \n",
       "1      0.0    0.0      0.0       0.0              0.0             0.0   \n",
       "2      0.0    0.0      0.0       0.0              0.0             0.0   \n",
       "3      0.0    0.0      0.0       0.0              0.0             0.0   \n",
       "4      0.0    0.0      0.0       0.0              0.0             0.0   \n",
       "\n",
       "   customer  disappoint  disappointing  excellent_sum  ...  travel  try  \\\n",
       "0       0.0         0.0            0.0            1.0  ...     0.0  0.0   \n",
       "1       0.0         0.0            0.0            0.0  ...     0.0  0.0   \n",
       "2       0.0         0.0            0.0            0.0  ...     0.0  0.0   \n",
       "3       0.0         0.0            0.0            0.0  ...     0.0  0.0   \n",
       "4       0.0         0.0            0.0            0.0  ...     0.0  0.0   \n",
       "\n",
       "   upgrade  use  visit      wait  want  water  way     well  \n",
       "0      0.0  0.0    0.0  0.000000   0.0    0.0  0.0  0.00000  \n",
       "1      0.0  0.0    0.0  0.401164   0.0    0.0  0.0  0.00000  \n",
       "2      0.0  0.0    0.0  0.000000   0.0    0.0  0.0  0.51693  \n",
       "3      0.0  0.0    0.0  0.000000   0.0    0.0  0.0  0.00000  \n",
       "4      0.0  0.0    0.0  0.000000   0.0    0.0  0.0  0.00000  \n",
       "\n",
       "[5 rows x 138 columns]"
      ]
     },
     "execution_count": 52,
     "metadata": {},
     "output_type": "execute_result"
    }
   ],
   "source": [
    "x_lemm_summary_train_text = x_lemm_train_summary_tfidf.join(x_lemm_train_tfidf, lsuffix='_sum')\n",
    "x_lemm_summary_test_text = x_lemm_test_summary_tfidf.join(x_lemm_test_tfidf, lsuffix='_sum')\n",
    "x_lemm_summary_train_text.head()"
   ]
  },
  {
   "cell_type": "code",
   "execution_count": 53,
   "metadata": {
    "Collapsed": "false"
   },
   "outputs": [
    {
     "name": "stdout",
     "output_type": "stream",
     "text": [
      "(7524, 138)\n",
      "(1881, 138)\n",
      "(7524,)\n",
      "(1881,)\n"
     ]
    }
   ],
   "source": [
    "print(x_lemm_summary_train_text.shape)\n",
    "print(x_lemm_summary_test_text.shape)\n",
    "print(y_train.shape)\n",
    "print(y_test.shape)"
   ]
  },
  {
   "cell_type": "code",
   "execution_count": null,
   "metadata": {},
   "outputs": [],
   "source": []
  },
  {
   "cell_type": "code",
   "execution_count": 83,
   "metadata": {},
   "outputs": [
    {
     "data": {
      "text/html": [
       "<div>\n",
       "<style scoped>\n",
       "    .dataframe tbody tr th:only-of-type {\n",
       "        vertical-align: middle;\n",
       "    }\n",
       "\n",
       "    .dataframe tbody tr th {\n",
       "        vertical-align: top;\n",
       "    }\n",
       "\n",
       "    .dataframe thead th {\n",
       "        text-align: right;\n",
       "    }\n",
       "</style>\n",
       "<table border=\"1\" class=\"dataframe\">\n",
       "  <thead>\n",
       "    <tr style=\"text-align: right;\">\n",
       "      <th></th>\n",
       "      <th>score</th>\n",
       "      <th>review_summary</th>\n",
       "      <th>review</th>\n",
       "      <th>hotel_name</th>\n",
       "      <th>source</th>\n",
       "      <th>review_stemmed</th>\n",
       "      <th>review_lemmed</th>\n",
       "      <th>review_summary_stemmed</th>\n",
       "      <th>review_summary_lemmed</th>\n",
       "    </tr>\n",
       "  </thead>\n",
       "  <tbody>\n",
       "    <tr>\n",
       "      <th>0</th>\n",
       "      <td>5</td>\n",
       "      <td>Nice Hotel</td>\n",
       "      <td>Nice hotel , Nice room , Nice breakfast , Nice...</td>\n",
       "      <td>TVH</td>\n",
       "      <td>Agoda</td>\n",
       "      <td>nice hotel , nice room , nice breakfast , nice...</td>\n",
       "      <td>Nice hotel , Nice room , Nice breakfast , Nice...</td>\n",
       "      <td>nice hotel</td>\n",
       "      <td>Nice Hotel</td>\n",
       "    </tr>\n",
       "    <tr>\n",
       "      <th>1</th>\n",
       "      <td>5</td>\n",
       "      <td>It's a nice place with a nice view.</td>\n",
       "      <td>It's just beside Skyranch so that's a plus.</td>\n",
       "      <td>TVH</td>\n",
       "      <td>Agoda</td>\n",
       "      <td>it' just besid skyranch so that' a plus.</td>\n",
       "      <td>It's just beside Skyranch so that's a plus.</td>\n",
       "      <td>it' a nice place with a nice view.</td>\n",
       "      <td>It's a nice place with a nice view.</td>\n",
       "    </tr>\n",
       "    <tr>\n",
       "      <th>2</th>\n",
       "      <td>5</td>\n",
       "      <td>Best Place to Stay in Tagaytay with Kids</td>\n",
       "      <td>Our family of 4 stayed here to celebrate my bi...</td>\n",
       "      <td>TVH</td>\n",
       "      <td>Agoda</td>\n",
       "      <td>our famili of 4 stay here to celebr my birthda...</td>\n",
       "      <td>Our family of 4 stay here to celebrate my birt...</td>\n",
       "      <td>best place to stay in tagaytay with kid</td>\n",
       "      <td>Best Place to Stay in Tagaytay with Kids</td>\n",
       "    </tr>\n",
       "    <tr>\n",
       "      <th>3</th>\n",
       "      <td>4</td>\n",
       "      <td>Honeymoon gift</td>\n",
       "      <td>My brother and his wife were in this hotel dur...</td>\n",
       "      <td>TVH</td>\n",
       "      <td>Agoda</td>\n",
       "      <td>My brother and hi wife were in thi hotel dure ...</td>\n",
       "      <td>My brother and his wife be in this hotel durin...</td>\n",
       "      <td>honeymoon gift</td>\n",
       "      <td>Honeymoon gift</td>\n",
       "    </tr>\n",
       "    <tr>\n",
       "      <th>4</th>\n",
       "      <td>5</td>\n",
       "      <td>Awesome Breakfast</td>\n",
       "      <td>Newly renovated room</td>\n",
       "      <td>TVH</td>\n",
       "      <td>Agoda</td>\n",
       "      <td>newli renov room</td>\n",
       "      <td>Newly renovate room</td>\n",
       "      <td>awesom breakfast</td>\n",
       "      <td>Awesome Breakfast</td>\n",
       "    </tr>\n",
       "  </tbody>\n",
       "</table>\n",
       "</div>"
      ],
      "text/plain": [
       "   score                            review_summary  \\\n",
       "0      5                                Nice Hotel   \n",
       "1      5       It's a nice place with a nice view.   \n",
       "2      5  Best Place to Stay in Tagaytay with Kids   \n",
       "3      4                            Honeymoon gift   \n",
       "4      5                         Awesome Breakfast   \n",
       "\n",
       "                                              review hotel_name source  \\\n",
       "0  Nice hotel , Nice room , Nice breakfast , Nice...        TVH  Agoda   \n",
       "1        It's just beside Skyranch so that's a plus.        TVH  Agoda   \n",
       "2  Our family of 4 stayed here to celebrate my bi...        TVH  Agoda   \n",
       "3  My brother and his wife were in this hotel dur...        TVH  Agoda   \n",
       "4                               Newly renovated room        TVH  Agoda   \n",
       "\n",
       "                                      review_stemmed  \\\n",
       "0  nice hotel , nice room , nice breakfast , nice...   \n",
       "1          it' just besid skyranch so that' a plus.    \n",
       "2  our famili of 4 stay here to celebr my birthda...   \n",
       "3  My brother and hi wife were in thi hotel dure ...   \n",
       "4                                  newli renov room    \n",
       "\n",
       "                                       review_lemmed  \\\n",
       "0  Nice hotel , Nice room , Nice breakfast , Nice...   \n",
       "1      It's just beside Skyranch so that's a plus.     \n",
       "2  Our family of 4 stay here to celebrate my birt...   \n",
       "3  My brother and his wife be in this hotel durin...   \n",
       "4                              Newly renovate room     \n",
       "\n",
       "                     review_summary_stemmed  \\\n",
       "0                               nice hotel    \n",
       "1       it' a nice place with a nice view.    \n",
       "2  best place to stay in tagaytay with kid    \n",
       "3                           honeymoon gift    \n",
       "4                         awesom breakfast    \n",
       "\n",
       "                        review_summary_lemmed  \n",
       "0                                Nice Hotel    \n",
       "1       It's a nice place with a nice view.    \n",
       "2  Best Place to Stay in Tagaytay with Kids    \n",
       "3                            Honeymoon gift    \n",
       "4                         Awesome Breakfast    "
      ]
     },
     "execution_count": 83,
     "metadata": {},
     "output_type": "execute_result"
    }
   ],
   "source": [
    "# read PH Hotel data\n",
    "hotel = pd.read_excel('s3a://smdatalabs-analytics/jay/smhcc-sample-data/hotel-reviews-v2.xlsx')\n",
    "hotel = hotel.rename(\n",
    "    columns = {\n",
    "        'content-rating': 'score',\n",
    "        'content-title': 'review_summary',\n",
    "        'content-text': 'review',\n",
    "        'Property': 'hotel_name'\n",
    "    }\n",
    ")\n",
    "hotel = hotel[['score', 'review_summary', 'review', 'hotel_name', 'source']]\n",
    "hotel['review_summary'] = hotel['review_summary'].str.replace('”', '')\n",
    "hotel = hotel[(hotel['review'].notnull()) & (hotel['score'] > 0)]\n",
    "\n",
    "hotel['review_stemmed'] = hotel['review'].apply(apply_stem)\n",
    "hotel['review_lemmed'] = hotel['review'].apply(apply_lem)\n",
    "\n",
    "hotel['review_summary_stemmed'] = hotel['review_summary'].apply(apply_stem)\n",
    "hotel['review_summary_lemmed'] = hotel['review_summary'].apply(apply_lem)\n",
    "\n",
    "hotel.head()"
   ]
  },
  {
   "cell_type": "code",
   "execution_count": 84,
   "metadata": {},
   "outputs": [
    {
     "data": {
      "text/html": [
       "<div>\n",
       "<style scoped>\n",
       "    .dataframe tbody tr th:only-of-type {\n",
       "        vertical-align: middle;\n",
       "    }\n",
       "\n",
       "    .dataframe tbody tr th {\n",
       "        vertical-align: top;\n",
       "    }\n",
       "\n",
       "    .dataframe thead th {\n",
       "        text-align: right;\n",
       "    }\n",
       "</style>\n",
       "<table border=\"1\" class=\"dataframe\">\n",
       "  <thead>\n",
       "    <tr style=\"text-align: right;\">\n",
       "      <th></th>\n",
       "      <th>average</th>\n",
       "      <th>awful</th>\n",
       "      <th>bad_sum</th>\n",
       "      <th>best_sum</th>\n",
       "      <th>comfortable_sum</th>\n",
       "      <th>convenient_sum</th>\n",
       "      <th>customer</th>\n",
       "      <th>disappoint</th>\n",
       "      <th>disappointing</th>\n",
       "      <th>excellent_sum</th>\n",
       "      <th>...</th>\n",
       "      <th>travel</th>\n",
       "      <th>try</th>\n",
       "      <th>upgrade</th>\n",
       "      <th>use</th>\n",
       "      <th>visit</th>\n",
       "      <th>wait</th>\n",
       "      <th>want</th>\n",
       "      <th>water</th>\n",
       "      <th>way</th>\n",
       "      <th>well</th>\n",
       "    </tr>\n",
       "  </thead>\n",
       "  <tbody>\n",
       "    <tr>\n",
       "      <th>0</th>\n",
       "      <td>0.0</td>\n",
       "      <td>0.0</td>\n",
       "      <td>0.0</td>\n",
       "      <td>0.000000</td>\n",
       "      <td>0.0</td>\n",
       "      <td>0.0</td>\n",
       "      <td>0.0</td>\n",
       "      <td>0.0</td>\n",
       "      <td>0.0</td>\n",
       "      <td>0.0</td>\n",
       "      <td>...</td>\n",
       "      <td>0.0</td>\n",
       "      <td>0.0</td>\n",
       "      <td>0.0</td>\n",
       "      <td>0.0</td>\n",
       "      <td>0.0</td>\n",
       "      <td>0.0</td>\n",
       "      <td>0.0</td>\n",
       "      <td>0.0</td>\n",
       "      <td>0.0</td>\n",
       "      <td>0.0</td>\n",
       "    </tr>\n",
       "    <tr>\n",
       "      <th>1</th>\n",
       "      <td>0.0</td>\n",
       "      <td>0.0</td>\n",
       "      <td>0.0</td>\n",
       "      <td>0.000000</td>\n",
       "      <td>0.0</td>\n",
       "      <td>0.0</td>\n",
       "      <td>0.0</td>\n",
       "      <td>0.0</td>\n",
       "      <td>0.0</td>\n",
       "      <td>0.0</td>\n",
       "      <td>...</td>\n",
       "      <td>0.0</td>\n",
       "      <td>0.0</td>\n",
       "      <td>0.0</td>\n",
       "      <td>0.0</td>\n",
       "      <td>0.0</td>\n",
       "      <td>0.0</td>\n",
       "      <td>0.0</td>\n",
       "      <td>0.0</td>\n",
       "      <td>0.0</td>\n",
       "      <td>0.0</td>\n",
       "    </tr>\n",
       "    <tr>\n",
       "      <th>2</th>\n",
       "      <td>0.0</td>\n",
       "      <td>0.0</td>\n",
       "      <td>0.0</td>\n",
       "      <td>0.722125</td>\n",
       "      <td>0.0</td>\n",
       "      <td>0.0</td>\n",
       "      <td>0.0</td>\n",
       "      <td>0.0</td>\n",
       "      <td>0.0</td>\n",
       "      <td>0.0</td>\n",
       "      <td>...</td>\n",
       "      <td>0.0</td>\n",
       "      <td>0.0</td>\n",
       "      <td>0.0</td>\n",
       "      <td>0.0</td>\n",
       "      <td>0.0</td>\n",
       "      <td>0.0</td>\n",
       "      <td>0.0</td>\n",
       "      <td>0.0</td>\n",
       "      <td>0.0</td>\n",
       "      <td>0.0</td>\n",
       "    </tr>\n",
       "    <tr>\n",
       "      <th>3</th>\n",
       "      <td>0.0</td>\n",
       "      <td>0.0</td>\n",
       "      <td>0.0</td>\n",
       "      <td>0.000000</td>\n",
       "      <td>0.0</td>\n",
       "      <td>0.0</td>\n",
       "      <td>0.0</td>\n",
       "      <td>0.0</td>\n",
       "      <td>0.0</td>\n",
       "      <td>0.0</td>\n",
       "      <td>...</td>\n",
       "      <td>0.0</td>\n",
       "      <td>0.0</td>\n",
       "      <td>0.0</td>\n",
       "      <td>0.0</td>\n",
       "      <td>0.0</td>\n",
       "      <td>0.0</td>\n",
       "      <td>0.0</td>\n",
       "      <td>0.0</td>\n",
       "      <td>0.0</td>\n",
       "      <td>0.0</td>\n",
       "    </tr>\n",
       "    <tr>\n",
       "      <th>4</th>\n",
       "      <td>0.0</td>\n",
       "      <td>0.0</td>\n",
       "      <td>0.0</td>\n",
       "      <td>0.000000</td>\n",
       "      <td>0.0</td>\n",
       "      <td>0.0</td>\n",
       "      <td>0.0</td>\n",
       "      <td>0.0</td>\n",
       "      <td>0.0</td>\n",
       "      <td>0.0</td>\n",
       "      <td>...</td>\n",
       "      <td>0.0</td>\n",
       "      <td>0.0</td>\n",
       "      <td>0.0</td>\n",
       "      <td>0.0</td>\n",
       "      <td>0.0</td>\n",
       "      <td>0.0</td>\n",
       "      <td>0.0</td>\n",
       "      <td>0.0</td>\n",
       "      <td>0.0</td>\n",
       "      <td>0.0</td>\n",
       "    </tr>\n",
       "  </tbody>\n",
       "</table>\n",
       "<p>5 rows × 138 columns</p>\n",
       "</div>"
      ],
      "text/plain": [
       "   average  awful  bad_sum  best_sum  comfortable_sum  convenient_sum  \\\n",
       "0      0.0    0.0      0.0  0.000000              0.0             0.0   \n",
       "1      0.0    0.0      0.0  0.000000              0.0             0.0   \n",
       "2      0.0    0.0      0.0  0.722125              0.0             0.0   \n",
       "3      0.0    0.0      0.0  0.000000              0.0             0.0   \n",
       "4      0.0    0.0      0.0  0.000000              0.0             0.0   \n",
       "\n",
       "   customer  disappoint  disappointing  excellent_sum  ...  travel  try  \\\n",
       "0       0.0         0.0            0.0            0.0  ...     0.0  0.0   \n",
       "1       0.0         0.0            0.0            0.0  ...     0.0  0.0   \n",
       "2       0.0         0.0            0.0            0.0  ...     0.0  0.0   \n",
       "3       0.0         0.0            0.0            0.0  ...     0.0  0.0   \n",
       "4       0.0         0.0            0.0            0.0  ...     0.0  0.0   \n",
       "\n",
       "   upgrade  use  visit  wait  want  water  way  well  \n",
       "0      0.0  0.0    0.0   0.0   0.0    0.0  0.0   0.0  \n",
       "1      0.0  0.0    0.0   0.0   0.0    0.0  0.0   0.0  \n",
       "2      0.0  0.0    0.0   0.0   0.0    0.0  0.0   0.0  \n",
       "3      0.0  0.0    0.0   0.0   0.0    0.0  0.0   0.0  \n",
       "4      0.0  0.0    0.0   0.0   0.0    0.0  0.0   0.0  \n",
       "\n",
       "[5 rows x 138 columns]"
      ]
     },
     "execution_count": 84,
     "metadata": {},
     "output_type": "execute_result"
    }
   ],
   "source": [
    "hotel_review_tfidf_sparse = tf_idf_vect.transform(hotel['review_lemmed'])\n",
    "hotel_review_tfidf = pd.DataFrame(\n",
    "    hotel_review_tfidf_sparse.toarray(), \n",
    "    columns=tf_idf_vect.get_feature_names()\n",
    ")\n",
    "\n",
    "hotel_review_summary_tfidf_sparse = tf_idf_vect_summary.transform(hotel['review_summary_lemmed'])\n",
    "hotel_review_summary_tfidf = pd.DataFrame(\n",
    "    hotel_review_summary_tfidf_sparse.toarray(), \n",
    "    columns=tf_idf_vect_summary.get_feature_names()\n",
    ")\n",
    "\n",
    "hotel_review_final = hotel_review_summary_tfidf.join(hotel_review_tfidf, lsuffix='_sum')\n",
    "hotel_review_final.head()"
   ]
  },
  {
   "cell_type": "markdown",
   "metadata": {
    "Collapsed": "false"
   },
   "source": [
    "## 2.9 Saving Preprocessed Dataset as CSVs"
   ]
  },
  {
   "cell_type": "markdown",
   "metadata": {
    "Collapsed": "false"
   },
   "source": [
    "Using the lemmed texts for review and review summary I used TF-IDF vectorisation with an ngram range of 2, leaving me with a vectorised dataset with 138 words and phrases (112 from reviews and 26 from review summaries). I then saved the x and y data in separate csv files for modelling."
   ]
  },
  {
   "cell_type": "code",
   "execution_count": 54,
   "metadata": {
    "Collapsed": "false"
   },
   "outputs": [],
   "source": [
    "x_lemm_summary_train_text.to_csv('Data/3.x_train_data.csv',index=False)"
   ]
  },
  {
   "cell_type": "code",
   "execution_count": 55,
   "metadata": {
    "Collapsed": "false"
   },
   "outputs": [],
   "source": [
    "x_lemm_summary_test_text.to_csv('Data/4.x_test_data.csv',index=False)"
   ]
  },
  {
   "cell_type": "code",
   "execution_count": 56,
   "metadata": {
    "Collapsed": "false"
   },
   "outputs": [],
   "source": [
    "y_train_df.to_csv('Data/3.y_train_data.csv',index=False)"
   ]
  },
  {
   "cell_type": "code",
   "execution_count": 57,
   "metadata": {
    "Collapsed": "false"
   },
   "outputs": [],
   "source": [
    "y_test_df.to_csv('Data/4.y_test_data.csv',index=False)"
   ]
  },
  {
   "cell_type": "code",
   "execution_count": 85,
   "metadata": {},
   "outputs": [],
   "source": [
    "hotel_review_final.to_csv('Data/smhotels-reviews.csv', index=False)"
   ]
  },
  {
   "cell_type": "code",
   "execution_count": 86,
   "metadata": {},
   "outputs": [],
   "source": [
    "hotel[['score']].to_csv('Data/smhotels-reviews-y.csv', index=False)"
   ]
  },
  {
   "cell_type": "code",
   "execution_count": 92,
   "metadata": {},
   "outputs": [],
   "source": [
    "import pickle\n",
    "with open('Vectorizer/review_tfidf_vectorizer.pkl', 'wb') as f:\n",
    "    pickle.dump(tf_idf_vect, f)\n",
    "\n",
    "with open('Vectorizer/review_tfidf_summary_vectorizer.pkl', 'wb') as f:\n",
    "    pickle.dump(tf_idf_vect_summary, f)"
   ]
  },
  {
   "cell_type": "code",
   "execution_count": null,
   "metadata": {},
   "outputs": [],
   "source": []
  }
 ],
 "metadata": {
  "kernelspec": {
   "display_name": "Python 3",
   "language": "python",
   "name": "python3"
  },
  "language_info": {
   "codemirror_mode": {
    "name": "ipython",
    "version": 3
   },
   "file_extension": ".py",
   "mimetype": "text/x-python",
   "name": "python",
   "nbconvert_exporter": "python",
   "pygments_lexer": "ipython3",
   "version": "3.7.6"
  },
  "toc-autonumbering": false,
  "toc-showcode": false,
  "toc-showmarkdowntxt": false
 },
 "nbformat": 4,
 "nbformat_minor": 4
}
